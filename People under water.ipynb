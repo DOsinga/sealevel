{
 "cells": [
  {
   "cell_type": "code",
   "execution_count": 7,
   "metadata": {},
   "outputs": [],
   "source": [
    "from PIL import Image\n",
    "import rasterio\n",
    "import math\n",
    "import numpy as np\n",
    "import rasterio.transform\n",
    "from bokeh import palettes\n",
    "import json"
   ]
  },
  {
   "cell_type": "markdown",
   "metadata": {},
   "source": [
    "### Load up the data\n",
    "\n",
    "The elevation.tiff file you should get by running the Create Elevation Tiff notebook.\n",
    "\n",
    "You can download the population tiff from https://sedac.ciesin.columbia.edu/data/set/gpw-v4-population-count-adjusted-to-2015-unwpp-country-totals-rev11\n",
    "\n",
    "Center for International Earth Science Information Network - CIESIN - Columbia University. 2018. Gridded Population of the World, Version 4 (GPWv4): Population Count Adjusted to Match 2015 Revision of UN WPP Country Totals, Revision 11. Palisades, NY: NASA Socioeconomic Data and Applications Center (SEDAC). https://doi.org/10.7927/H4PN93PB. Accessed 4 september 2021."
   ]
  },
  {
   "cell_type": "code",
   "execution_count": 8,
   "metadata": {},
   "outputs": [
    {
     "data": {
      "text/plain": [
       "((4320, 8640),\n",
       " BoundingBox(left=-180.0, bottom=-90.0, right=180.0000000000232, top=90.0000000000116),\n",
       " CRS.from_epsg(4326))"
      ]
     },
     "execution_count": 8,
     "metadata": {},
     "output_type": "execute_result"
    }
   ],
   "source": [
    "pop_tiff = 'gpw_v4_population_count_adjusted_to_2015_unwpp_country_totals_rev11_2020_2pt5_min.tif'\n",
    "pop = rasterio.open(pop_tiff)\n",
    "pop_data = pop.read(1)\n",
    "\n",
    "elevation = rasterio.open('elevation.tiff')\n",
    "elevation_data = elevation.read(1)\n",
    "\n",
    "elevation_data.shape, pop.bounds, pop.crs"
   ]
  },
  {
   "cell_type": "markdown",
   "metadata": {},
   "source": [
    "### Quick check\n",
    "\n",
    "Let's do some quick calculations on the data to see how many people live below 200m and what the maximum number of\n",
    "people on a pixel is."
   ]
  },
  {
   "cell_type": "code",
   "execution_count": 9,
   "metadata": {},
   "outputs": [
    {
     "data": {
      "text/plain": [
       "(0.5360479, 1646519.8)"
      ]
     },
     "execution_count": 9,
     "metadata": {},
     "output_type": "execute_result"
    }
   ],
   "source": [
    "world_population = pop_data[(pop_data > 0)].sum()\n",
    "\n",
    "pop_data[(elevation_data < 200) & (pop_data > 0)].sum() / world_population, pop_data.max()"
   ]
  },
  {
   "cell_type": "markdown",
   "metadata": {},
   "source": [
    "### Color setup\n",
    "\n",
    "We set up some colors based on the inferno pallette. Also pick to types of blue"
   ]
  },
  {
   "cell_type": "code",
   "execution_count": 10,
   "metadata": {},
   "outputs": [
    {
     "data": {
      "text/plain": [
       "([array([0, 0, 3]),\n",
       "  array([ 7,  5, 29]),\n",
       "  array([23, 11, 59]),\n",
       "  array([46, 10, 90]),\n",
       "  array([ 69,  10, 105]),\n",
       "  array([ 91,  17, 110]),\n",
       "  array([112,  25, 110]),\n",
       "  array([133,  32, 106]),\n",
       "  array([155,  40, 100]),\n",
       "  array([175,  49,  91]),\n",
       "  array([196,  60,  78]),\n",
       "  array([213,  73,  64]),\n",
       "  array([229,  91,  48]),\n",
       "  array([240, 111,  31]),\n",
       "  array([247, 133,  14]),\n",
       "  array([251, 158,   7]),\n",
       "  array([251, 183,  28]),\n",
       "  array([246, 211,  63]),\n",
       "  array([241, 235, 108]),\n",
       "  array([252, 254, 164])],\n",
       " array([ 40,  40, 200]))"
      ]
     },
     "execution_count": 10,
     "metadata": {},
     "output_type": "execute_result"
    }
   ],
   "source": [
    "min_val = 1\n",
    "max_val = min(10_000, pop_data.max())\n",
    "logmin = math.log(min_val)\n",
    "logmax = math.log(max_val)\n",
    "\n",
    "\n",
    "def rgb(s):\n",
    "    return np.array([int(s[1:3], 16), int(s[3:5], 16), int(s[5:7], 16)])\n",
    "\n",
    "pal = [rgb(s) for s in palettes.inferno(20)]\n",
    "blue = np.array([40, 40, 200])\n",
    "light_blue = np.array([70, 70, 240])\n",
    "ocean = np.full(elevation_data.shape + (3,), blue, dtype=np.uint8)\n",
    "pal, blue"
   ]
  },
  {
   "cell_type": "markdown",
   "metadata": {},
   "source": [
    "### Draw the maps!\n",
    "\n",
    "For each pixel we pick a color based on whether it is below the cut-off of the sea level, the population living there. Then do this for 9 different levels of sealevel and 🚀"
   ]
  },
  {
   "cell_type": "code",
   "execution_count": 11,
   "metadata": {},
   "outputs": [
    {
     "data": {
      "text/plain": [
       "array([240, 111,  31])"
      ]
     },
     "execution_count": 11,
     "metadata": {},
     "output_type": "execute_result"
    }
   ],
   "source": [
    "def color_for_value(val, el, cut_off):\n",
    "    if val < 0:\n",
    "        return blue\n",
    "    elif (cut_off is not None and el < cut_off):\n",
    "        return light_blue\n",
    "    elif val < min_val:\n",
    "        return pal[0]\n",
    "    elif val >= max_val:\n",
    "        return pal[-1]\n",
    "    else:\n",
    "        return pal[int(len(pal) * (math.log(val) - logmin) / logmax)]\n",
    "    \n",
    "color_for_value(400, 10, 1)"
   ]
  },
  {
   "cell_type": "code",
   "execution_count": 12,
   "metadata": {},
   "outputs": [
    {
     "name": "stdout",
     "output_type": "stream",
     "text": [
      "7.6407145 million people live below -10\n",
      "177.264352 million people live below 2\n",
      "374.025568 million people live below 5\n",
      "785.290944 million people live below 10\n",
      "1481.814272 million people live below 25\n",
      "2200.117504 million people live below 50\n",
      "3093.371136 million people live below 100\n",
      "4158.65088 million people live below 200\n",
      "5768.622592 million people live below 500\n"
     ]
    }
   ],
   "source": [
    "pop_under = {}\n",
    "\n",
    "for cut_off in -10, 2, 5, 10, 25, 50, 100, 200, 500:\n",
    "    pop_under[cut_off] = pop_data[(elevation_data < cut_off) & (pop_data > 0)].sum() / 1_000_000\n",
    "    print(pop_under[cut_off], 'million people live below', cut_off)\n",
    "    h, w = pop_data.shape\n",
    "    pop_map = np.zeros((h, w, 3), np.uint8)\n",
    "    for x in range(w):\n",
    "        for y in range(h):\n",
    "            pop_map[y][x] = color_for_value(pop_data[y][x], elevation_data[y][x], cut_off=cut_off)\n",
    "\n",
    "    img = Image.fromarray(pop_map)\n",
    "    if cut_off < 0:\n",
    "        ext = ''\n",
    "    else:\n",
    "        ext = '_' + str(cut_off)\n",
    "    img.save(f'elevation{ext}.png')\n",
    "    img.resize((w // 20, h // 20), Image.LANCZOS).save(f'elevation_thumb{ext}.jpg')\n",
    "    \n",
    "with open('people_under.json', 'w') as fout:\n",
    "    json.dump(pop_under, fout, indent=2)"
   ]
  },
  {
   "cell_type": "code",
   "execution_count": null,
   "metadata": {},
   "outputs": [],
   "source": []
  },
  {
   "cell_type": "code",
   "execution_count": null,
   "metadata": {},
   "outputs": [],
   "source": []
  }
 ],
 "metadata": {
  "kernelspec": {
   "display_name": "Sealevel",
   "language": "python",
   "name": "sealevel"
  },
  "language_info": {
   "codemirror_mode": {
    "name": "ipython",
    "version": 3
   },
   "file_extension": ".py",
   "mimetype": "text/x-python",
   "name": "python",
   "nbconvert_exporter": "python",
   "pygments_lexer": "ipython3",
   "version": "3.7.3"
  }
 },
 "nbformat": 4,
 "nbformat_minor": 4
}
